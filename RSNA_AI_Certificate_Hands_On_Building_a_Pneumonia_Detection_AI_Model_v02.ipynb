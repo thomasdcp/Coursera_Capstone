{
  "nbformat": 4,
  "nbformat_minor": 0,
  "metadata": {
    "accelerator": "GPU",
    "colab": {
      "name": "RSNA AI Certificate Hands On - Building a Pneumonia Detection AI Model v02",
      "provenance": [],
      "toc_visible": true,
      "include_colab_link": true
    },
    "kernelspec": {
      "display_name": "Python 3",
      "language": "python",
      "name": "python3"
    }
  },
  "cells": [
    {
      "cell_type": "markdown",
      "metadata": {
        "id": "view-in-github",
        "colab_type": "text"
      },
      "source": [
        "<a href=\"https://colab.research.google.com/github/thomasdcp/Coursera_Capstone/blob/master/RSNA_AI_Certificate_Hands_On_Building_a_Pneumonia_Detection_AI_Model_v02.ipynb\" target=\"_parent\"><img src=\"https://colab.research.google.com/assets/colab-badge.svg\" alt=\"Open In Colab\"/></a>"
      ]
    },
    {
      "cell_type": "markdown",
      "metadata": {
        "id": "FdivV_kX8_PN"
      },
      "source": [
        "## RSNA AI Certificate Hands On \n",
        "\n",
        "### Building a Pneumonia Detection AI Model\n",
        "\n",
        "#### by Ian Pan and Felipe Kitamura\n",
        "\n",
        "**v0.9.3 / 2022-02-01**\n",
        "\n",
        "Now we're ready to train your Pneumonia AI model using your annotated data\n"
      ]
    },
    {
      "cell_type": "markdown",
      "metadata": {
        "id": "1Z2Q7e7jtziH"
      },
      "source": [
        "### 1. Load your annotations from the previous Hands On module"
      ]
    },
    {
      "cell_type": "markdown",
      "metadata": {
        "id": "QuWygKCV_9Lf"
      },
      "source": [
        "![](https://i.imgur.com/9rgSz7v.png)\n",
        "\n",
        "**Copy / Paste the copied cell content in the cell below.**\n",
        "\n",
        "It should look like figure above \n",
        "\n",
        "If you're not sure where how to find that page of the project that contain your annotations, [click on this link](https://rsna.skp.one/?moduleID=3&urlID=2&userRSNA=2c3ad5da-e4f0-4a9d-96b8-77dbc59327c5).\n",
        "\n",
        "Make sure you login using the same Google Account that you used previously.\n"
      ]
    },
    {
      "cell_type": "code",
      "source": [
        "## Paste cell content below\n",
        "!pip install --upgrade --quiet mdai\n",
        "\n",
        "import mdai\n",
        "\n",
        "DOMAIN = \"rsna.md.ai\"\n",
        "PROJECT_ID = \"MmRaEXRr\"\n",
        "DATASET_IDS = [\"D_dz8X0z\", \"D_Alnovz\"]\n",
        "\n",
        "# your automatically-generated API access token scoped to this project\n",
        "ACCESS_TOKEN = \"00ba17204012294c58acbce27b2ffe89\"\n",
        "\n",
        "mdai_client = mdai.Client(domain=DOMAIN, access_token=ACCESS_TOKEN)\n",
        "\n",
        "# Example project initialization - see documentation for details.\n",
        "# Add dataset_id to scope project to a specific dataset.\n",
        "# Change path to use a different directory.\n",
        "p = mdai_client.project(PROJECT_ID, path=\"./data\")\n",
        "\n",
        "\n",
        "## Paste cell content above"
      ],
      "metadata": {
        "id": "5QC22G_nm0xE",
        "colab": {
          "base_uri": "https://localhost:8080/"
        },
        "outputId": "56bec0da-e5d9-48ff-a234-e5d41f9c84c9"
      },
      "execution_count": null,
      "outputs": [
        {
          "output_type": "stream",
          "name": "stdout",
          "text": [
            "\u001b[K     |████████████████████████████████| 269 kB 20.8 MB/s \n",
            "\u001b[K     |████████████████████████████████| 66 kB 2.3 MB/s \n",
            "\u001b[K     |████████████████████████████████| 2.0 MB 53.8 MB/s \n",
            "\u001b[K     |████████████████████████████████| 43 kB 640 kB/s \n",
            "\u001b[K     |████████████████████████████████| 13.0 MB 24.3 MB/s \n",
            "\u001b[?25hSuccessfully authenticated to rsna.md.ai.\n",
            "Using path './data' for data.\n",
            "Preparing annotations export for project MmRaEXRr...                                                \n",
            "Preparing images export for project MmRaEXRr...                                                     \n",
            "Downloading file: mdai_rsna_project_LzBg2wq3_images_2022-02-01-164954.zip\n"
          ]
        },
        {
          "output_type": "stream",
          "name": "stderr",
          "text": [
            "  0%|          | 96.0k/659M [00:00<45:12, 255kB/s]"
          ]
        },
        {
          "output_type": "stream",
          "name": "stdout",
          "text": [
            "Exporting annotations for project MmRaEXRr...0% (time remaining: 0 seconds).                        \r"
          ]
        },
        {
          "output_type": "stream",
          "name": "stderr",
          "text": [
            "  2%|▏         | 16.2M/659M [00:01<00:30, 21.9MB/s]"
          ]
        },
        {
          "output_type": "stream",
          "name": "stdout",
          "text": [
            "Exporting annotations for project MmRaEXRr...0% (time remaining: 0 seconds).                        \r"
          ]
        },
        {
          "output_type": "stream",
          "name": "stderr",
          "text": [
            "  6%|▌         | 41.0M/659M [00:02<00:26, 24.9MB/s]"
          ]
        },
        {
          "output_type": "stream",
          "name": "stdout",
          "text": [
            "Exporting annotations for project MmRaEXRr...10% (time remaining: 1 seconds).                       \r"
          ]
        },
        {
          "output_type": "stream",
          "name": "stderr",
          "text": [
            " 10%|█         | 66.8M/659M [00:04<00:26, 23.3MB/s]"
          ]
        },
        {
          "output_type": "stream",
          "name": "stdout",
          "text": [
            "Exporting annotations for project MmRaEXRr...40% (time remaining: 3 seconds).                       \r"
          ]
        },
        {
          "output_type": "stream",
          "name": "stderr",
          "text": [
            " 16%|█▌        | 106M/659M [00:05<00:23, 25.2MB/s]"
          ]
        },
        {
          "output_type": "stream",
          "name": "stdout",
          "text": [
            "Downloading file: mdai_rsna_project_MmRaEXRr_annotations_2022-12-08-115608.json\n"
          ]
        },
        {
          "output_type": "stream",
          "name": "stderr",
          "text": [
            " 22%|██▏       | 144M/659M [00:07<00:22, 24.4MB/s]\n",
            " 22%|██▏       | 146M/659M [00:07<00:21, 25.2MB/s]\n",
            " 23%|██▎       | 152M/659M [00:07<00:22, 23.9MB/s]\n",
            " 23%|██▎       | 154M/659M [00:07<00:21, 24.6MB/s]\n",
            "224kB [00:00, 504kB/s]                           \n",
            " 24%|██▍       | 160M/659M [00:07<00:20, 25.4MB/s]"
          ]
        },
        {
          "output_type": "stream",
          "name": "stdout",
          "text": [
            "Success: annotations data for project MmRaEXRr ready.\n"
          ]
        },
        {
          "output_type": "stream",
          "name": "stderr",
          "text": [
            "659MB [00:30, 22.7MB/s]                           \n"
          ]
        },
        {
          "output_type": "stream",
          "name": "stdout",
          "text": [
            "Extracting archive: mdai_rsna_project_LzBg2wq3_images_2022-02-01-164954.zip\n",
            "Success: images data for project MmRaEXRr ready.\n"
          ]
        }
      ]
    },
    {
      "cell_type": "code",
      "metadata": {
        "id": "DqnSszJUtrNI",
        "colab": {
          "base_uri": "https://localhost:8080/"
        },
        "outputId": "6234642b-aad1-4a3b-98c9-476579b92821"
      },
      "source": [
        "!pip install --upgrade --quiet mdai\n",
        "\n",
        "import mdai\n",
        "\n",
        "def setup_mdai_project(p_DOMAIN, p_PROJECT_ID, p_DATASET_IDS, p_ACCESS_TOKEN):\n",
        "  DOMAIN = p_DOMAIN\n",
        "  PROJECT_ID = p_PROJECT_ID\n",
        "  DATASET_IDS = p_DATASET_IDS\n",
        "\n",
        "  # your automatically-generated API access token scoped to this project\n",
        "  ACCESS_TOKEN = p_ACCESS_TOKEN\n",
        "\n",
        "  mdai_client = mdai.Client(domain=DOMAIN, access_token=ACCESS_TOKEN)\n",
        "\n",
        "  return mdai_client\n",
        "\n",
        "\n",
        "try:\n",
        "  mdai_client = setup_mdai_project(DOMAIN, PROJECT_ID, DATASET_IDS, ACCESS_TOKEN)\n",
        "except:\n",
        "  print('Error in setting up user-specified project ...')\n",
        "  print('Using dummy project instead ...')\n",
        "  DOMAIN = \"rsna.md.ai\"\n",
        "  PROJECT_ID = \"4ONL7QR9\"\n",
        "  DATASET_IDS = [\"D_A2AY02\", \"D_9zo64l\"]\n",
        "  ACCESS_TOKEN = \"80c36aa27998b422fa4d587787ec4e65\"\n",
        "  mdai_client = mdai.Client(domain=DOMAIN, access_token=ACCESS_TOKEN)\n",
        "\n",
        "# Example project initialization - see documentation for details.\n",
        "# Add dataset_id to scope project to a specific dataset.\n",
        "# Change path to use a different directory.\n",
        "p = mdai_client.project(PROJECT_ID, path=\"./data\")"
      ],
      "execution_count": null,
      "outputs": [
        {
          "output_type": "stream",
          "name": "stdout",
          "text": [
            "Successfully authenticated to rsna.md.ai.\n",
            "Using path './data' for data.\n",
            "Preparing annotations export for project MmRaEXRr...                                                \n",
            "Using cached annotations data for project MmRaEXRr.\n",
            "Preparing images export for project MmRaEXRr...                                                     \n",
            "Using cached images data for project MmRaEXRr.\n"
          ]
        }
      ]
    },
    {
      "cell_type": "markdown",
      "metadata": {
        "id": "Q1o3en5wNbNu"
      },
      "source": [
        "**Now click on the \"Runtime\" -> \"Run all\" (CTRL-F9 on most computers)**\n",
        "\n",
        "It will take a several minutes to execute all the steps. You can follow the execution by scrolling over this page. Do not refresh it.\n",
        "\n",
        "Feel free to grab a coffee now and watch the pneumonia AI model train\n",
        "\n",
        "The cell that is currently being executed is shown with a spinning stop button in the upper left corner of that cell, like this one: ![image.png](data:image/png;base64,iVBORw0KGgoAAAANSUhEUgAAACcAAAArCAYAAAD7YZFOAAAAAXNSR0IArs4c6QAAAARnQU1BAACxjwv8YQUAAAAJcEhZcwAADsMAAA7DAcdvqGQAAAQKSURBVFhH7ZdLKG1RHMa/e86lkGdhJK/ySEkYGFAGxFAMkTJRDMwp3ZSRlAllIsKQDImJxxCJ8hh4F3lECMXgXt+y1m3Z9tr7PJx7DfzqdPZa5+y1v73W//mjtrb2N74oHvn9JfkWFygB2Vx+fj5yc3ORkZGB5ORkxMTEICwsDC8vL7i7u8P5+Tn29/exvb2NjY0NeZf/+CwuISEBlZWVKCsrQ2xsrJx15/b2FktLS5ibm8P19bWc9Q2fxNXV1aGmpkaOAmd6ehqTk5Ny5I6juLS0NDQ3NyM9PV3OvHFxcYG1tTXs7u7i5OQENzc3eH5+Rnh4OOLj45GSkoLs7GwUFhYiKSlJ3vXGwcEBhoeHcXh4KGfMGMUVFRWhra1N2JKCYmZmZrCysiJn3CkuLkZ1dbUQq6BtDgwMYHV1Vc7Y43017F/y+h0VFRXIysqSI2B0dBQjIyM4PT2VM0BOTg5SU1NRUlIiHCQqKgpxcXG4urqS/4D4/+LiIu7v71FQUCDmvF6vuOf4+BhnZ2dizg7HY21sbBQLDg4OYm9vT8xRTFVVldjZyMhIMWfl8fFR7Mrs7CyOjo7kLJCZmYnW1ta/R80d7O7uNh6xq0NER0eLt6aQhoYG4a3+QE8dHx8XgkleXp6wYyWQNtjV1SWurRiPVUFD5251dHSIo/MXdew7OzsirFxeXopTKC8vF7/TgTwej4iJVlzFKWG0pUChLVLg5uamEEjv1m2QtruwsICnpycxVjimLx5le3u70bb8wbrW/Py88H4FA7wVR3F0iMTERDkKHq7FNRUMSwo7WzaK43GWlpbK0efBNdULM14yoBOmROZsHaM4Bs5Q8Roh5BVEplFYHe6n/P4A45gTExMTxvjEtFdfXy9HH2FaU9Du1EawytGx3Tl6T0REhBzZQ2EMD3Yft7xJp+AzCHOzguWXjq04un6oUc9gWFGwLtSxFUdnCDXqGQzyCr3IIEaH+FewzFIw1+rYitOTdahQz2D6UrDE17EV9/DwIK9Ch3oGC1MFew8dW3H0OGues0KbYVyy+7jZLNfmM4hehLIp0jGWTC0tLSHJEGR5eRlDQ0Piuq+v72/51Nvb+65bMzqEnvc+m6mpKfHNEl4JY7VibSON4miwfMPPhmuypiN6imRRasUojoyNjb3rB4KFa3FNwh5Ftzf2tVYcxbG07u/vd3UOX+AaXItrspdoamqSv7z1s3YNt6M4wuPt6ekJagd5L9fgWuxJ2OQo2EOYGm1XcYSLdnZ2BmSDvIf3qqDL8nx9fV1cMyOwwTbh2n1ZYQyjIbOkMlUuPEK2hvRKZfxWWBFvbW05NtZ+i9Nh2cPqQgVd7g4jvwqwwRKUuFDjk839L77FBcq3uED5FhcYwB8CEdJz9vGzgQAAAABJRU5ErkJggg==)"
      ]
    },
    {
      "cell_type": "markdown",
      "metadata": {
        "id": "oO9DnrbU8Ugu"
      },
      "source": [
        "### 2. Installing and loading dependencies"
      ]
    },
    {
      "cell_type": "code",
      "metadata": {
        "id": "3VZvE3gX8_PP",
        "colab": {
          "base_uri": "https://localhost:8080/"
        },
        "outputId": "c101f741-a0de-4df7-ac93-63eea06c2038"
      },
      "source": [
        "# Install dependencies not included by Colab\n",
        "# Use pip3 to ensure compatibility w/ Google Deep Learning Images  \n",
        "!pip3 install -q pydicom \n",
        "!pip3 install -q tqdm\n",
        "!pip3 install -q imgaug\n",
        "!pip3 install -q --no-warn-conflicts torch==1.9.0+cu111 torchvision==0.10.0+cu111 torchaudio==0.9.0 -f https://download.pytorch.org/whl/torch_stable.html\n",
        "!pip3 install -q pytorch-lightning==1.2.0\n",
        "!pip3 install -q omegaconf==2.0.6\n",
        "!pip3 install -q --upgrade albumentations\n",
        "!pip3 install -q opencv-python==4.5.4.60\n",
        "!pip3 install -q timm\n",
        "!pip3 install -q transformers\n",
        "!pip3 install -q python-gdcm\n",
        "!pip3 uninstall -q -y torchtext"
      ],
      "execution_count": null,
      "outputs": [
        {
          "output_type": "stream",
          "name": "stdout",
          "text": [
            "\u001b[K     |█████████████                   | 834.1 MB 1.2 MB/s eta 0:16:12tcmalloc: large alloc 1147494400 bytes == 0x390d8000 @  0x7f95d0bca615 0x5d631c 0x51e4f1 0x51e67b 0x4f7585 0x49ca7c 0x4fdff5 0x49caa1 0x4fdff5 0x49ced5 0x4f60a9 0x55f926 0x4f60a9 0x55f926 0x4f60a9 0x55f926 0x5d7c18 0x5d9412 0x586636 0x5d813c 0x55f3fd 0x55e571 0x5d7cf1 0x49ced5 0x55e571 0x5d7cf1 0x49ec69 0x5d7c18 0x49ca7c 0x4fdff5 0x49ced5\n",
            "\u001b[K     |████████████████▌               | 1055.7 MB 1.2 MB/s eta 0:13:39tcmalloc: large alloc 1434370048 bytes == 0x7d72e000 @  0x7f95d0bca615 0x5d631c 0x51e4f1 0x51e67b 0x4f7585 0x49ca7c 0x4fdff5 0x49caa1 0x4fdff5 0x49ced5 0x4f60a9 0x55f926 0x4f60a9 0x55f926 0x4f60a9 0x55f926 0x5d7c18 0x5d9412 0x586636 0x5d813c 0x55f3fd 0x55e571 0x5d7cf1 0x49ced5 0x55e571 0x5d7cf1 0x49ec69 0x5d7c18 0x49ca7c 0x4fdff5 0x49ced5\n",
            "\u001b[K     |█████████████████████           | 1336.2 MB 14.9 MB/s eta 0:00:48tcmalloc: large alloc 1792966656 bytes == 0x2560000 @  0x7f95d0bca615 0x5d631c 0x51e4f1 0x51e67b 0x4f7585 0x49ca7c 0x4fdff5 0x49caa1 0x4fdff5 0x49ced5 0x4f60a9 0x55f926 0x4f60a9 0x55f926 0x4f60a9 0x55f926 0x5d7c18 0x5d9412 0x586636 0x5d813c 0x55f3fd 0x55e571 0x5d7cf1 0x49ced5 0x55e571 0x5d7cf1 0x49ec69 0x5d7c18 0x49ca7c 0x4fdff5 0x49ced5\n",
            "\u001b[K     |██████████████████████████▌     | 1691.1 MB 1.3 MB/s eta 0:04:39tcmalloc: large alloc 2241208320 bytes == 0x6d348000 @  0x7f95d0bca615 0x5d631c 0x51e4f1 0x51e67b 0x4f7585 0x49ca7c 0x4fdff5 0x49caa1 0x4fdff5 0x49ced5 0x4f60a9 0x55f926 0x4f60a9 0x55f926 0x4f60a9 0x55f926 0x5d7c18 0x5d9412 0x586636 0x5d813c 0x55f3fd 0x55e571 0x5d7cf1 0x49ced5 0x55e571 0x5d7cf1 0x49ec69 0x5d7c18 0x49ca7c 0x4fdff5 0x49ced5\n",
            "\u001b[K     |████████████████████████████████| 2041.3 MB 1.2 MB/s eta 0:00:01tcmalloc: large alloc 2041339904 bytes == 0xf2caa000 @  0x7f95d0bc91e7 0x4d3280 0x4d330c 0x5d631c 0x51e4f1 0x51e67b 0x4f7585 0x49ca7c 0x55e571 0x5d7cf1 0x49ca7c 0x55e571 0x5d7cf1 0x49ca7c 0x55e571 0x5d7cf1 0x49ca7c 0x55e571 0x5d7cf1 0x49ca7c 0x55e571 0x5d7cf1 0x49ca7c 0x5d7c18 0x49ca7c 0x55e571 0x5d7cf1 0x49ced5 0x4fdff5 0x49ced5 0x55e571\n",
            "tcmalloc: large alloc 2551676928 bytes == 0x1e0c12000 @  0x7f95d0bca615 0x5d631c 0x51e4f1 0x51e67b 0x4f7585 0x49ca7c 0x55e571 0x5d7cf1 0x49ca7c 0x55e571 0x5d7cf1 0x49ca7c 0x55e571 0x5d7cf1 0x49ca7c 0x55e571 0x5d7cf1 0x49ca7c 0x55e571 0x5d7cf1 0x49ca7c 0x5d7c18 0x49ca7c 0x55e571 0x5d7cf1 0x49ced5 0x4fdff5 0x49ced5 0x55e571 0x5d7cf1 0x4fea58\n",
            "\u001b[K     |████████████████████████████████| 2041.3 MB 3.7 kB/s \n",
            "\u001b[K     |████████████████████████████████| 23.2 MB 80.0 MB/s \n",
            "\u001b[K     |████████████████████████████████| 1.9 MB 39.9 MB/s \n",
            "\u001b[K     |████████████████████████████████| 813 kB 37.7 MB/s \n",
            "\u001b[K     |████████████████████████████████| 829 kB 65.9 MB/s \n",
            "\u001b[?25h  Building wheel for future (setup.py) ... \u001b[?25l\u001b[?25hdone\n",
            "\u001b[K     |████████████████████████████████| 123 kB 38.7 MB/s \n",
            "\u001b[K     |████████████████████████████████| 60.3 MB 1.1 MB/s \n",
            "\u001b[K     |████████████████████████████████| 549 kB 33.8 MB/s \n",
            "\u001b[K     |████████████████████████████████| 182 kB 73.0 MB/s \n",
            "\u001b[K     |████████████████████████████████| 5.8 MB 31.0 MB/s \n",
            "\u001b[K     |████████████████████████████████| 7.6 MB 62.6 MB/s \n",
            "\u001b[?25h"
          ]
        }
      ]
    },
    {
      "cell_type": "code",
      "metadata": {
        "id": "lVBBH_EF8_PU"
      },
      "source": [
        "import cv2\n",
        "import json\n",
        "import math\n",
        "import matplotlib.pyplot as plt\n",
        "import numpy as np\n",
        "import os\n",
        "import pickle\n",
        "import pydicom\n",
        "import re\n",
        "import sys \n",
        "import torch\n",
        "\n",
        "from omegaconf import OmegaConf\n",
        "from pydicom.pixel_data_handlers.util import apply_voi_lut\n",
        "from tqdm import tqdm\n",
        "\n",
        "%matplotlib inline \n",
        "\n",
        "import warnings\n",
        "warnings.filterwarnings('ignore')"
      ],
      "execution_count": null,
      "outputs": []
    },
    {
      "cell_type": "markdown",
      "metadata": {
        "id": "uF7cKcfiCI38"
      },
      "source": [
        "### 3. Download validation and test data"
      ]
    },
    {
      "cell_type": "code",
      "metadata": {
        "id": "1X_qKzPWCLyX",
        "colab": {
          "base_uri": "https://localhost:8080/"
        },
        "outputId": "d63a451b-524d-4c6b-ed72-4a7179ecf4db"
      },
      "source": [
        "# Create projects for the validation/test set\n",
        "eval_p = mdai_client.project(\"8VNxZPBw\", path=\"./data\")"
      ],
      "execution_count": null,
      "outputs": [
        {
          "output_type": "stream",
          "name": "stdout",
          "text": [
            "Using path './data' for data.\n",
            "Preparing annotations export for project 8VNxZPBw...                                                \n",
            "Downloading file: mdai_rsna_project_8VNxZPBw_annotations_2022-04-12-013712.json\n",
            "Preparing images export for project 8VNxZPBw...                                                     \n",
            "Downloading file: mdai_rsna_project_8VNxZPBw_images_2021-10-06-113314.zip\n"
          ]
        },
        {
          "output_type": "stream",
          "name": "stderr",
          "text": [
            "320kB [00:00, 701kB/s]                           \n"
          ]
        },
        {
          "output_type": "stream",
          "name": "stdout",
          "text": [
            "Success: annotations data for project 8VNxZPBw ready.\n"
          ]
        },
        {
          "output_type": "stream",
          "name": "stderr",
          "text": [
            "1.46GB [01:06, 23.3MB/s]                            \n"
          ]
        },
        {
          "output_type": "stream",
          "name": "stdout",
          "text": [
            "Extracting archive: mdai_rsna_project_8VNxZPBw_images_2021-10-06-113314.zip\n",
            "Success: images data for project 8VNxZPBw ready.\n"
          ]
        }
      ]
    },
    {
      "cell_type": "code",
      "metadata": {
        "id": "WZQjgjnK8_Pb"
      },
      "source": [
        "# Root directory of the project\n",
        "ROOT_DIR = os.path.abspath('./data')\n",
        "\n",
        "# Directory to save logs and trained model\n",
        "MODEL_DIR = os.path.join(ROOT_DIR, 'logs')\n",
        "\n",
        "if not os.path.exists(ROOT_DIR):\n",
        "    os.makedirs(ROOT_DIR)\n",
        "os.chdir('/content')"
      ],
      "execution_count": null,
      "outputs": []
    },
    {
      "cell_type": "markdown",
      "metadata": {
        "id": "mc_8MnxKmMJR"
      },
      "source": [
        "### 4. Download pneumonia detection library from GitHub"
      ]
    },
    {
      "cell_type": "code",
      "metadata": {
        "id": "tHwdGHj1mP5_",
        "colab": {
          "base_uri": "https://localhost:8080/"
        },
        "outputId": "e0409fe7-a129-45ef-9e76-624ebe7ecb4c"
      },
      "source": [
        "!rm -rf siim_covid19_detection\n",
        "!git clone https://github.com/i-pan/siim_covid19_detection\n",
        "os.chdir('/content/siim_covid19_detection/ian-siim/detect/')\n",
        "!wget https://github.com/mdai/rsna-education-models/raw/main/rsna18_pretrained_opacity.ckpt"
      ],
      "execution_count": null,
      "outputs": [
        {
          "output_type": "stream",
          "name": "stdout",
          "text": [
            "Cloning into 'siim_covid19_detection'...\n",
            "remote: Enumerating objects: 2390, done.\u001b[K\n",
            "remote: Counting objects: 100% (2390/2390), done.\u001b[K\n",
            "remote: Compressing objects: 100% (1631/1631), done.\u001b[K\n",
            "remote: Total 2390 (delta 720), reused 2380 (delta 714), pack-reused 0\u001b[K\n",
            "Receiving objects: 100% (2390/2390), 14.83 MiB | 17.03 MiB/s, done.\n",
            "Resolving deltas: 100% (720/720), done.\n",
            "--2022-12-08 12:03:03--  https://github.com/mdai/rsna-education-models/raw/main/rsna18_pretrained_opacity.ckpt\n",
            "Resolving github.com (github.com)... 20.205.243.166\n",
            "Connecting to github.com (github.com)|20.205.243.166|:443... connected.\n",
            "HTTP request sent, awaiting response... 302 Found\n",
            "Location: https://media.githubusercontent.com/media/mdai/rsna-education-models/main/rsna18_pretrained_opacity.ckpt [following]\n",
            "--2022-12-08 12:03:03--  https://media.githubusercontent.com/media/mdai/rsna-education-models/main/rsna18_pretrained_opacity.ckpt\n",
            "Resolving media.githubusercontent.com (media.githubusercontent.com)... 185.199.108.133, 185.199.109.133, 185.199.110.133, ...\n",
            "Connecting to media.githubusercontent.com (media.githubusercontent.com)|185.199.108.133|:443... connected.\n",
            "HTTP request sent, awaiting response... 200 OK\n",
            "Length: 209502882 (200M) [application/octet-stream]\n",
            "Saving to: ‘rsna18_pretrained_opacity.ckpt’\n",
            "\n",
            "rsna18_pretrained_o 100%[===================>] 199.80M   314MB/s    in 0.6s    \n",
            "\n",
            "2022-12-08 12:03:18 (314 MB/s) - ‘rsna18_pretrained_opacity.ckpt’ saved [209502882/209502882]\n",
            "\n"
          ]
        }
      ]
    },
    {
      "cell_type": "markdown",
      "metadata": {
        "id": "PXiRWnxX8_Pz"
      },
      "source": [
        "### 5. Prepare datasets"
      ]
    },
    {
      "cell_type": "code",
      "metadata": {
        "id": "EDecTsz28_P0",
        "colab": {
          "base_uri": "https://localhost:8080/"
        },
        "outputId": "53ecef5c-3c4a-46f1-8b08-a1ee3d0ac50d"
      },
      "source": [
        "p.show_label_groups()"
      ],
      "execution_count": null,
      "outputs": [
        {
          "output_type": "stream",
          "name": "stdout",
          "text": [
            "Label Group, Id: G_2QZ0JB, Name: Default group\n",
            "\tLabels:\n",
            "\tId: L_nepb0m, Name: Pneumonia\n",
            "\tId: L_MbrORM, Name: Normal\n",
            "\tId: L_mvoRpn, Name: Not Normal Not PNA\n",
            "\n"
          ]
        }
      ]
    },
    {
      "cell_type": "code",
      "metadata": {
        "id": "y-4ygTGJw3D3",
        "colab": {
          "base_uri": "https://localhost:8080/"
        },
        "outputId": "bcedeab2-5c8e-45cb-858d-ad9dc902e376"
      },
      "source": [
        "eval_p.show_label_groups()"
      ],
      "execution_count": null,
      "outputs": [
        {
          "output_type": "stream",
          "name": "stdout",
          "text": [
            "Label Group, Id: G_nB7ZD2, Name: Default group\n",
            "\tLabels:\n",
            "\tId: L_n4AE7J, Name: Pneumonia\n",
            "\tId: L_ngvWOm, Name: Normal\n",
            "\tId: L_J7XEQM, Name: Not Normal Not PNA\n",
            "\n"
          ]
        }
      ]
    },
    {
      "cell_type": "code",
      "metadata": {
        "id": "ChuEtYTz8_P4"
      },
      "source": [
        "# This maps label ids to class ids\n",
        "\n",
        "label_group = p.get_label_groups()[0].get_data()[\"labels\"]\n",
        "\n",
        "labels_dict = {j[\"id\"]:len(label_group) - i - 1 for i,j in enumerate(label_group)}\n",
        "\n",
        "p.set_labels_dict(labels_dict)\n",
        "\n",
        "eval_label_group = eval_p.get_label_groups()[0].get_data()[\"labels\"]\n",
        "\n",
        "eval_labels_dict = {j[\"id\"]:len(eval_label_group) - i - 1 for i,j in enumerate(eval_label_group)}\n",
        "\n",
        "eval_p.set_labels_dict(eval_labels_dict)\n",
        "\n",
        "labels_dict.update(eval_labels_dict)"
      ],
      "execution_count": null,
      "outputs": []
    },
    {
      "cell_type": "code",
      "metadata": {
        "id": "dFJRPTL18_P8",
        "colab": {
          "base_uri": "https://localhost:8080/"
        },
        "outputId": "a61cf0fa-9f02-49e9-8883-c2f6c7aae070"
      },
      "source": [
        "p.show_datasets()"
      ],
      "execution_count": null,
      "outputs": [
        {
          "output_type": "stream",
          "name": "stdout",
          "text": [
            "Datasets:\n",
            "Id: D_dz8X0z, Name: Dataset\n",
            "Id: D_Alnovz, Name: Test\n",
            "\n"
          ]
        }
      ]
    },
    {
      "cell_type": "code",
      "metadata": {
        "id": "9KflC3ydw7Hz",
        "colab": {
          "base_uri": "https://localhost:8080/"
        },
        "outputId": "0f495333-2c79-4487-eeaa-0277255e95e1"
      },
      "source": [
        "eval_p.show_datasets()"
      ],
      "execution_count": null,
      "outputs": [
        {
          "output_type": "stream",
          "name": "stdout",
          "text": [
            "Datasets:\n",
            "Id: D_Vzbk82, Name: Val\n",
            "Id: D_qxGBO2, Name: Test\n",
            "\n"
          ]
        }
      ]
    },
    {
      "cell_type": "markdown",
      "metadata": {
        "id": "geohmVOKB6ae"
      },
      "source": [
        "### 6. Split data into training, validation, and test"
      ]
    },
    {
      "cell_type": "code",
      "metadata": {
        "id": "JYPBZJQ6-Tx7",
        "colab": {
          "base_uri": "https://localhost:8080/"
        },
        "outputId": "e2160031-87a0-4bce-d6be-c6331108c718"
      },
      "source": [
        "train_dataset = p.get_dataset_by_id(DATASET_IDS[0])\n",
        "try:\n",
        "  train_dataset.prepare()\n",
        "  train_paths = train_dataset.get_image_ids()\n",
        "  train_anns = train_dataset.imgs_anns_dict\n",
        "  USER_ID = train_anns[[*train_anns][0]][0]['createdById']\n",
        "except:\n",
        "  train_paths, train_anns, USER_ID = [], [], \"NA\"\n",
        "\n",
        "\n",
        "val_dataset = eval_p.get_dataset_by_id(\"D_Vzbk82\")\n",
        "val_dataset.prepare()\n",
        "\n",
        "val_paths = val_dataset.get_image_ids()\n",
        "val_anns = val_dataset.imgs_anns_dict\n",
        "\n",
        "test_dataset = eval_p.get_dataset_by_id(\"D_qxGBO2\")\n",
        "test_dataset.prepare()\n",
        "\n",
        "test_paths = test_dataset.get_image_ids()\n",
        "test_anns = test_dataset.imgs_anns_dict\n",
        "\n",
        "splits = ['train'] * len(train_paths) + ['val'] * len(val_paths) + ['test'] * len(test_paths)\n",
        "print(f'TRAIN: N={len(train_paths)}')\n",
        "print(f'VAL:   N={len(val_paths)}')\n",
        "print(f'TEST:  N={len(test_paths)}')\n",
        "\n",
        "splits_dict = dict(\n",
        "    train={'outer': -1, 'inner0': -1},\n",
        "    val={'outer': -1, 'inner0': 0},\n",
        "    test={'outer': 0, 'inner0': -1}\n",
        ")"
      ],
      "execution_count": null,
      "outputs": [
        {
          "output_type": "stream",
          "name": "stdout",
          "text": [
            "TRAIN: N=197\n",
            "VAL:   N=123\n",
            "TEST:  N=103\n"
          ]
        }
      ]
    },
    {
      "cell_type": "markdown",
      "metadata": {
        "id": "5V5E3d6KC4Zd"
      },
      "source": [
        "### 7. Prepare annotations"
      ]
    },
    {
      "cell_type": "code",
      "metadata": {
        "id": "StXTZCR7nRc1"
      },
      "source": [
        "def transform_bbox(bbox_dict):\n",
        "  x, y, w, h = bbox_dict['x'], bbox_dict['y'], bbox_dict['width'], bbox_dict['height']\n",
        "  x1, y1, x2, y2 = x, y, x+w, y+h \n",
        "  box = np.expand_dims(np.asarray([x1, y1, x2, y2]), axis=0)\n",
        "  return box\n",
        "\n",
        "\n",
        "paths = train_paths + val_paths + test_paths\n",
        "anns = {}\n",
        "anns.update(train_anns)\n",
        "anns.update(val_anns)\n",
        "anns.update(test_anns)\n",
        "\n",
        "effdet_annotations = []\n",
        "\n",
        "for ind, fp in enumerate(paths):\n",
        "  each_ann = anns[fp]\n",
        "  if each_ann[0]['data'] is not None:\n",
        "    tmp_ann = dict(filename=fp.replace('./data/', ''))\n",
        "    tmp_ann['img_width'], tmp_ann['img_height'] = each_ann[0]['width'], each_ann[0]['height']\n",
        "    bboxes = np.concatenate([transform_bbox(l['data']) for l in each_ann]).astype('float')\n",
        "    labels = np.asarray([labels_dict[l['labelId']] - 1 for l in each_ann]).astype('float')\n",
        "    tmp_ann['bbox'], tmp_ann['cls'] = bboxes, labels\n",
        "    assert tmp_ann['bbox'].shape[0] == tmp_ann['cls'].shape[0]\n",
        "    tmp_ann['folds'] = splits_dict[splits[ind]]\n",
        "    effdet_annotations.append(tmp_ann)\n",
        "\n",
        "\n",
        "with open('../data/train_bbox_annotations_effdet.pkl', 'wb') as f:\n",
        "  pickle.dump(effdet_annotations, f)"
      ],
      "execution_count": null,
      "outputs": []
    },
    {
      "cell_type": "markdown",
      "metadata": {
        "id": "RUg0qc4_Beog"
      },
      "source": [
        "### 8. Prepare model"
      ]
    },
    {
      "cell_type": "code",
      "metadata": {
        "id": "zX5IEAnMnlW6"
      },
      "source": [
        "cfg = OmegaConf.load('configs/mks/mk007.yaml')\n",
        "cfg.data.annotations = '../data/train_bbox_annotations_effdet.pkl'\n",
        "cfg.data.data_dir = '/content/data/'\n",
        "cfg.data.dataset.params.dicom = True\n",
        "cfg.data.outer_fold = 0\n",
        "cfg.data.inner_fold = 0\n",
        "cfg.data.exclude_negative_valid = None\n",
        "\n",
        "cfg.transform.crop = None\n",
        "\n",
        "cfg.model.params.num_classes = 1\n",
        "cfg.model.load_pretrained = 'rsna18_pretrained_opacity.ckpt'\n",
        "cfg.scheduler.params.max_lr = 5e-6\n",
        "cfg.train.num_epochs = 3\n",
        "cfg.train.num_snapshots = 1\n",
        "cfg.train.batch_size = 2\n",
        "\n",
        "cfg.evaluate.metrics[0].params.num_classes = 1\n",
        "\n",
        "OmegaConf.save(config=cfg, f='configs/mks/mk007.yaml')"
      ],
      "execution_count": null,
      "outputs": []
    },
    {
      "cell_type": "markdown",
      "source": [
        "### 9. Run training loop\n",
        "\n",
        "This will take several minutes, so it may be a good time to take a break\n",
        "\n",
        "![coffee-break](https://i.giphy.com/media/xUySTrbCFX1h4B8kmc/giphy.gif)"
      ],
      "metadata": {
        "id": "duSabwfYa9O4"
      }
    },
    {
      "cell_type": "code",
      "metadata": {
        "id": "KZ8ndFzDqvvM",
        "colab": {
          "base_uri": "https://localhost:8080/"
        },
        "outputId": "e7866551-ec96-4530-f88b-ed320017d0d9"
      },
      "source": [
        "train_effdet_anns = [_ for _ in effdet_annotations if _['folds']['outer'] + _['folds']['inner0'] == -2]\n",
        "if len(train_effdet_anns) < 10:\n",
        "  print(f'There are only {len(train_effdet_anns)} annotations ...')\n",
        "  print('Skipping training loop and using pretrained checkpoint ...')\n",
        "  os.makedirs('../experiments/detect/mk007/checkpoints/')\n",
        "  os.system('cp rsna18_pretrained_opacity.ckpt ../experiments/detect/mk007/checkpoints/last.ckpt')\n",
        "else:\n",
        "  !python main.py train configs/mks/mk007.yaml --gpus 1 --precision 16 --num-workers 2"
      ],
      "execution_count": null,
      "outputs": [
        {
          "output_type": "stream",
          "name": "stdout",
          "text": [
            "PyTorch environment ...\n",
            "  torch.__version__              = 1.9.0+cu111\n",
            "  torch.version.cuda             = 11.1\n",
            "  torch.backends.cudnn.version() = 8005\n",
            "\n",
            "\n",
            "Running experiment mk007 ...\n",
            "Saving checkpoints and logs to ../experiments/detect/ ...\n",
            "Global seed set to 88\n",
            "INFO:lightning:Global seed set to 88\n",
            "<inner fold> : 0\n",
            "<outer fold> : 0\n",
            "/usr/local/lib/python3.8/dist-packages/albumentations/augmentations/transforms.py:1175: FutureWarning: RandomContrast has been deprecated. Please use RandomBrightnessContrast\n",
            "  warnings.warn(\n",
            "/usr/local/lib/python3.8/dist-packages/albumentations/augmentations/transforms.py:1149: FutureWarning: This class has been deprecated. Please use RandomBrightnessContrast\n",
            "  warnings.warn(\n",
            "/usr/local/lib/python3.8/dist-packages/albumentations/imgaug/transforms.py:261: FutureWarning: IAAAdditiveGaussianNoise is deprecated. Please use GaussNoise instead\n",
            "  warnings.warn(\"IAAAdditiveGaussianNoise is deprecated. Please use GaussNoise instead\", FutureWarning)\n",
            "TRAIN : n=46\n",
            "VALID : n=123\n",
            "Downloading: \"https://github.com/rwightman/pytorch-image-models/releases/download/v0.1-weights/tf_efficientnet_b6_aa-80ba17e4.pth\" to /root/.cache/torch/hub/checkpoints/tf_efficientnet_b6_aa-80ba17e4.pth\n",
            "Downloading: \"https://github.com/rwightman/efficientdet-pytorch/releases/download/v0.1/tf_efficientdet_d6_52-4eda3773.pth\" to /root/.cache/torch/hub/checkpoints/tf_efficientdet_d6_52-4eda3773.pth\n",
            "100% 199M/199M [01:17<00:00, 2.71MB/s]\n",
            "Creating model <EffDet> ...\n",
            "  Using backbone <tf_efficientnet_b6> ...\n",
            "  Pretrained : True\n",
            "Loading pretrained model from rsna18_pretrained_opacity.ckpt ...\n",
            "Using loss function <DetectionLoss> ...\n",
            "Using optimizer <AdamW> ...\n",
            "Using learning rate schedule <CustomOneCycleLR> ...\n",
            "Building task <DetectionTask> ...\n",
            "GPU available: True, used: True\n",
            "INFO:lightning:GPU available: True, used: True\n",
            "TPU available: None, using: 0 TPU cores\n",
            "INFO:lightning:TPU available: None, using: 0 TPU cores\n",
            "Using native 16bit precision.\n",
            "INFO:lightning:Using native 16bit precision.\n",
            "\n",
            "  | Name    | Type          | Params\n",
            "------------------------------------------\n",
            "0 | model   | DetBenchTrain | 51.6 M\n",
            "1 | metrics | ModuleList    | 0     \n",
            "------------------------------------------\n",
            "51.6 M    Trainable params\n",
            "0         Non-trainable params\n",
            "51.6 M    Total params\n",
            "206.254   Total estimated model params size (MB)\n",
            "INFO:lightning:\n",
            "  | Name    | Type          | Params\n",
            "------------------------------------------\n",
            "0 | model   | DetBenchTrain | 51.6 M\n",
            "1 | metrics | ModuleList    | 0     \n",
            "------------------------------------------\n",
            "51.6 M    Trainable params\n",
            "0         Non-trainable params\n",
            "51.6 M    Total params\n",
            "206.254   Total estimated model params size (MB)\n",
            "Validation sanity check:   0% 0/2 [00:00<?, ?it/s]/usr/local/lib/python3.8/dist-packages/torch/nn/functional.py:718: UserWarning: Named tensors and all their associated APIs are an experimental feature and subject to change. Please do not use them for anything important until they are released as stable. (Triggered internally at  /pytorch/c10/core/TensorImpl.h:1156.)\n",
            "  return torch.max_pool2d(input, kernel_size, stride, padding, dilation, ceil_mode)\n",
            "/usr/local/lib/python3.8/dist-packages/torch/_tensor.py:575: UserWarning: floor_divide is deprecated, and will be removed in a future version of pytorch. It currently rounds toward 0 (like the 'trunc' function NOT 'floor'). This results in incorrect rounding for negative values.\n",
            "To keep the current behavior, use torch.div(a, b, rounding_mode='trunc'), or for actual floor division, use torch.div(a, b, rounding_mode='floor'). (Triggered internally at  /pytorch/aten/src/ATen/native/BinaryOps.cpp:467.)\n",
            "  return torch.floor_divide(self, other)\n",
            "Validation sanity check: 100% 2/2 [00:02<00:00,  1.13s/it]\n",
            "========\n",
            "map      | 1.0000\n",
            "val_loss | 0.6439\n",
            "vm       | 1.0000\n",
            "Epoch 0:   0% 0/85 [00:00<?, ?it/s] [W pthreadpool-cpp.cc:90] Warning: Leaking Caffe2 thread-pool after fork. (function pthreadpool)\n",
            "[W pthreadpool-cpp.cc:90] Warning: Leaking Caffe2 thread-pool after fork. (function pthreadpool)\n",
            "Epoch 0:  27% 23/85 [00:20<00:55,  1.11it/s, loss=0.834, v_num=]\n",
            "Validating: 0it [00:00, ?it/s]\u001b[A\n",
            "Validating:   0% 0/62 [00:00<?, ?it/s]\u001b[A[W pthreadpool-cpp.cc:90] Warning: Leaking Caffe2 thread-pool after fork. (function pthreadpool)\n",
            "[W pthreadpool-cpp.cc:90] Warning: Leaking Caffe2 thread-pool after fork. (function pthreadpool)\n",
            "\n",
            "Epoch 0:  29% 25/85 [00:21<00:51,  1.16it/s, loss=0.834, v_num=]\n",
            "Validating:   3% 2/62 [00:00<00:25,  2.32it/s]\u001b[A\n",
            "Epoch 0:  32% 27/85 [00:21<00:47,  1.23it/s, loss=0.834, v_num=]\n",
            "Validating:   6% 4/62 [00:01<00:16,  3.57it/s]\u001b[A\n",
            "Epoch 0:  34% 29/85 [00:22<00:43,  1.30it/s, loss=0.834, v_num=]\n",
            "Validating:  10% 6/62 [00:01<00:13,  4.16it/s]\u001b[A\n",
            "Epoch 0:  36% 31/85 [00:22<00:39,  1.36it/s, loss=0.834, v_num=]\n",
            "Validating:  13% 8/62 [00:02<00:12,  4.49it/s]\u001b[A\n",
            "Epoch 0:  39% 33/85 [00:23<00:36,  1.42it/s, loss=0.834, v_num=]\n",
            "Validating:  16% 10/62 [00:02<00:11,  4.66it/s]\u001b[A\n",
            "Epoch 0:  41% 35/85 [00:23<00:33,  1.48it/s, loss=0.834, v_num=]\n",
            "Validating:  19% 12/62 [00:03<00:10,  4.72it/s]\u001b[A\n",
            "Epoch 0:  44% 37/85 [00:24<00:31,  1.54it/s, loss=0.834, v_num=]\n",
            "Validating:  23% 14/62 [00:03<00:10,  4.74it/s]\u001b[A\n",
            "Epoch 0:  46% 39/85 [00:24<00:28,  1.60it/s, loss=0.834, v_num=]\n",
            "Validating:  26% 16/62 [00:03<00:09,  4.77it/s]\u001b[A\n",
            "Epoch 0:  48% 41/85 [00:24<00:26,  1.65it/s, loss=0.834, v_num=]\n",
            "Validating:  29% 18/62 [00:04<00:09,  4.79it/s]\u001b[A\n",
            "Epoch 0:  51% 43/85 [00:25<00:24,  1.70it/s, loss=0.834, v_num=]\n",
            "Validating:  32% 20/62 [00:04<00:08,  4.77it/s]\u001b[A\n",
            "Epoch 0:  53% 45/85 [00:25<00:22,  1.75it/s, loss=0.834, v_num=]\n",
            "Validating:  35% 22/62 [00:05<00:08,  4.74it/s]\u001b[A\n",
            "Epoch 0:  55% 47/85 [00:26<00:21,  1.80it/s, loss=0.834, v_num=]\n",
            "Validating:  39% 24/62 [00:05<00:07,  4.76it/s]\u001b[A\n",
            "Epoch 0:  58% 49/85 [00:26<00:19,  1.85it/s, loss=0.834, v_num=]\n",
            "Validating:  42% 26/62 [00:05<00:07,  4.80it/s]\u001b[A\n",
            "Epoch 0:  60% 51/85 [00:26<00:17,  1.89it/s, loss=0.834, v_num=]\n",
            "Validating:  45% 28/62 [00:06<00:07,  4.80it/s]\u001b[A\n",
            "Epoch 0:  62% 53/85 [00:27<00:16,  1.94it/s, loss=0.834, v_num=]\n",
            "Validating:  48% 30/62 [00:06<00:06,  4.80it/s]\u001b[A\n",
            "Epoch 0:  65% 55/85 [00:27<00:15,  1.98it/s, loss=0.834, v_num=]\n",
            "Validating:  52% 32/62 [00:07<00:06,  4.79it/s]\u001b[A\n",
            "Epoch 0:  67% 57/85 [00:28<00:13,  2.02it/s, loss=0.834, v_num=]\n",
            "Validating:  55% 34/62 [00:07<00:05,  4.79it/s]\u001b[A\n",
            "Epoch 0:  69% 59/85 [00:28<00:12,  2.06it/s, loss=0.834, v_num=]\n",
            "Validating:  58% 36/62 [00:08<00:05,  4.72it/s]\u001b[A\n",
            "Epoch 0:  72% 61/85 [00:29<00:11,  2.10it/s, loss=0.834, v_num=]\n",
            "Validating:  61% 38/62 [00:08<00:05,  4.62it/s]\u001b[A\n",
            "Epoch 0:  74% 63/85 [00:29<00:10,  2.14it/s, loss=0.834, v_num=]\n",
            "Validating:  65% 40/62 [00:08<00:04,  4.70it/s]\u001b[A\n",
            "Epoch 0:  76% 65/85 [00:29<00:09,  2.17it/s, loss=0.834, v_num=]\n",
            "Validating:  68% 42/62 [00:09<00:04,  4.71it/s]\u001b[A\n",
            "Epoch 0:  79% 67/85 [00:30<00:08,  2.21it/s, loss=0.834, v_num=]\n",
            "Validating:  71% 44/62 [00:09<00:03,  4.77it/s]\u001b[A\n",
            "Epoch 0:  81% 69/85 [00:30<00:07,  2.24it/s, loss=0.834, v_num=]\n",
            "Validating:  74% 46/62 [00:10<00:03,  4.78it/s]\u001b[A\n",
            "Epoch 0:  84% 71/85 [00:31<00:06,  2.27it/s, loss=0.834, v_num=]\n",
            "Validating:  77% 48/62 [00:10<00:03,  3.99it/s]\u001b[A\n",
            "Epoch 0:  86% 73/85 [00:31<00:05,  2.29it/s, loss=0.834, v_num=]\n",
            "Validating:  81% 50/62 [00:12<00:05,  2.15it/s]\u001b[A\n",
            "Epoch 0:  88% 75/85 [00:33<00:04,  2.21it/s, loss=0.834, v_num=]\n",
            "Validating:  84% 52/62 [00:14<00:09,  1.11it/s]\u001b[A\n",
            "Epoch 0:  91% 77/85 [00:35<00:03,  2.15it/s, loss=0.834, v_num=]\n",
            "Validating:  87% 54/62 [00:16<00:08,  1.06s/it]\u001b[A\n",
            "Epoch 0:  93% 79/85 [00:37<00:02,  2.09it/s, loss=0.834, v_num=]\n",
            "Validating:  90% 56/62 [00:18<00:05,  1.03it/s]\u001b[A\n",
            "Epoch 0:  95% 81/85 [00:39<00:01,  2.05it/s, loss=0.834, v_num=]\n",
            "Validating:  94% 58/62 [00:19<00:03,  1.15it/s]\u001b[A\n",
            "Epoch 0:  98% 83/85 [00:41<00:00,  2.01it/s, loss=0.834, v_num=]\n",
            "Validating:  97% 60/62 [00:21<00:01,  1.23it/s]\u001b[A\n",
            "Epoch 0: 100% 85/85 [00:42<00:00,  2.01it/s, loss=0.834, v_num=]\n",
            "Validating: 100% 62/62 [00:21<00:00,  2.09it/s]\u001b[A\n",
            "========\n",
            "map      | 0.6437\n",
            "val_loss | 0.7494\n",
            "vm       | 0.6437\n",
            "Epoch 0: 100% 85/85 [00:42<00:00,  2.00it/s, loss=0.834, v_num=]\n",
            "Epoch 1:   0% 0/85 [00:00<?, ?it/s, loss=0.834, v_num=][W pthreadpool-cpp.cc:90] Warning: Leaking Caffe2 thread-pool after fork. (function pthreadpool)\n",
            "[W pthreadpool-cpp.cc:90] Warning: Leaking Caffe2 thread-pool after fork. (function pthreadpool)\n",
            "Epoch 1:  28% 24/85 [00:21<00:54,  1.12it/s, loss=0.813, v_num=]\n",
            "Validating: 0it [00:00, ?it/s]\u001b[A\n",
            "Validating:   0% 0/62 [00:00<?, ?it/s]\u001b[A[W pthreadpool-cpp.cc:90] Warning: Leaking Caffe2 thread-pool after fork. (function pthreadpool)\n",
            "[W pthreadpool-cpp.cc:90] Warning: Leaking Caffe2 thread-pool after fork. (function pthreadpool)\n",
            "\n",
            "Validating:   2% 1/62 [00:00<00:45,  1.33it/s]\u001b[A\n",
            "Epoch 1:  31% 26/85 [00:22<00:50,  1.16it/s, loss=0.813, v_num=]\n",
            "Validating:   5% 3/62 [00:01<00:19,  2.99it/s]\u001b[A\n",
            "Epoch 1:  33% 28/85 [00:22<00:46,  1.22it/s, loss=0.813, v_num=]\n",
            "Validating:   8% 5/62 [00:01<00:14,  3.81it/s]\u001b[A\n",
            "Epoch 1:  35% 30/85 [00:23<00:42,  1.29it/s, loss=0.813, v_num=]\n",
            "Validating:  11% 7/62 [00:02<00:12,  4.28it/s]\u001b[A\n",
            "Epoch 1:  38% 32/85 [00:23<00:39,  1.35it/s, loss=0.813, v_num=]\n",
            "Validating:  15% 9/62 [00:02<00:11,  4.47it/s]\u001b[A\n",
            "Epoch 1:  40% 34/85 [00:24<00:36,  1.41it/s, loss=0.813, v_num=]\n",
            "Validating:  18% 11/62 [00:02<00:11,  4.58it/s]\u001b[A\n",
            "Epoch 1:  42% 36/85 [00:24<00:33,  1.46it/s, loss=0.813, v_num=]\n",
            "Validating:  21% 13/62 [00:03<00:10,  4.59it/s]\u001b[A\n",
            "Epoch 1:  45% 38/85 [00:25<00:30,  1.52it/s, loss=0.813, v_num=]\n",
            "Validating:  24% 15/62 [00:03<00:10,  4.64it/s]\u001b[A\n",
            "Epoch 1:  47% 40/85 [00:25<00:28,  1.57it/s, loss=0.813, v_num=]\n",
            "Validating:  27% 17/62 [00:04<00:09,  4.64it/s]\u001b[A\n",
            "Epoch 1:  49% 42/85 [00:25<00:26,  1.62it/s, loss=0.813, v_num=]\n",
            "Validating:  31% 19/62 [00:04<00:09,  4.65it/s]\u001b[A\n",
            "Epoch 1:  52% 44/85 [00:26<00:24,  1.67it/s, loss=0.813, v_num=]\n",
            "Validating:  34% 21/62 [00:05<00:08,  4.65it/s]\u001b[A\n",
            "Epoch 1:  54% 46/85 [00:26<00:22,  1.72it/s, loss=0.813, v_num=]\n",
            "Validating:  37% 23/62 [00:05<00:08,  4.66it/s]\u001b[A\n",
            "Epoch 1:  56% 48/85 [00:27<00:20,  1.77it/s, loss=0.813, v_num=]\n",
            "Validating:  40% 25/62 [00:05<00:07,  4.67it/s]\u001b[A\n",
            "Epoch 1:  59% 50/85 [00:27<00:19,  1.81it/s, loss=0.813, v_num=]\n",
            "Validating:  44% 27/62 [00:06<00:07,  4.65it/s]\u001b[A\n",
            "Epoch 1:  61% 52/85 [00:28<00:17,  1.85it/s, loss=0.813, v_num=]\n",
            "Validating:  47% 29/62 [00:06<00:07,  4.66it/s]\u001b[A\n",
            "Epoch 1:  64% 54/85 [00:28<00:16,  1.90it/s, loss=0.813, v_num=]\n",
            "Validating:  50% 31/62 [00:07<00:06,  4.66it/s]\u001b[A\n",
            "Epoch 1:  66% 56/85 [00:28<00:14,  1.94it/s, loss=0.813, v_num=]\n",
            "Validating:  53% 33/62 [00:07<00:06,  4.66it/s]\u001b[A\n",
            "Epoch 1:  68% 58/85 [00:29<00:13,  1.98it/s, loss=0.813, v_num=]\n",
            "Validating:  56% 35/62 [00:08<00:05,  4.60it/s]\u001b[A\n",
            "Epoch 1:  71% 60/85 [00:29<00:12,  2.02it/s, loss=0.813, v_num=]\n",
            "Validating:  60% 37/62 [00:08<00:05,  4.63it/s]\u001b[A\n",
            "Epoch 1:  73% 62/85 [00:30<00:11,  2.05it/s, loss=0.813, v_num=]\n",
            "Validating:  63% 39/62 [00:08<00:04,  4.64it/s]\u001b[A\n",
            "Epoch 1:  75% 64/85 [00:30<00:10,  2.09it/s, loss=0.813, v_num=]\n",
            "Validating:  66% 41/62 [00:09<00:04,  4.62it/s]\u001b[A\n",
            "Epoch 1:  78% 66/85 [00:31<00:08,  2.13it/s, loss=0.813, v_num=]\n",
            "Validating:  69% 43/62 [00:09<00:04,  4.62it/s]\u001b[A\n",
            "Epoch 1:  80% 68/85 [00:31<00:07,  2.16it/s, loss=0.813, v_num=]\n",
            "Validating:  73% 45/62 [00:10<00:03,  4.61it/s]\u001b[A\n",
            "Epoch 1:  82% 70/85 [00:31<00:06,  2.19it/s, loss=0.813, v_num=]\n",
            "Validating:  76% 47/62 [00:10<00:03,  4.39it/s]\u001b[A\n",
            "Epoch 1:  85% 72/85 [00:32<00:05,  2.22it/s, loss=0.813, v_num=]\n",
            "Validating:  79% 49/62 [00:11<00:03,  4.31it/s]\u001b[A\n",
            "Epoch 1:  87% 74/85 [00:33<00:04,  2.20it/s, loss=0.813, v_num=]\n",
            "Validating:  82% 51/62 [00:13<00:07,  1.43it/s]\u001b[A\n",
            "Epoch 1:  89% 76/85 [00:35<00:04,  2.11it/s, loss=0.813, v_num=]\n",
            "Validating:  85% 53/62 [00:15<00:07,  1.21it/s]\u001b[A\n",
            "Epoch 1:  92% 78/85 [00:38<00:03,  2.03it/s, loss=0.813, v_num=]\n",
            "Validating:  89% 55/62 [00:17<00:06,  1.01it/s]\u001b[A\n",
            "Epoch 1:  94% 80/85 [00:40<00:02,  2.00it/s, loss=0.813, v_num=]\n",
            "Validating:  92% 57/62 [00:18<00:03,  1.27it/s]\u001b[A\n",
            "Epoch 1:  96% 82/85 [00:41<00:01,  1.98it/s, loss=0.813, v_num=]\n",
            "Validating:  95% 59/62 [00:20<00:02,  1.16it/s]\u001b[A\n",
            "Epoch 1:  99% 84/85 [00:43<00:00,  1.93it/s, loss=0.813, v_num=]\n",
            "Validating:  98% 61/62 [00:22<00:00,  1.39it/s]\u001b[A\n",
            "Validating: 100% 62/62 [00:22<00:00,  1.82it/s]\u001b[A\n",
            "========\n",
            "map      | 0.6182\n",
            "val_loss | 0.7499\n",
            "vm       | 0.6182\n",
            "Epoch 1: 100% 85/85 [00:44<00:00,  1.93it/s, loss=0.813, v_num=]\n",
            "Epoch 2:   0% 0/85 [00:00<?, ?it/s, loss=0.813, v_num=][W pthreadpool-cpp.cc:90] Warning: Leaking Caffe2 thread-pool after fork. (function pthreadpool)\n",
            "[W pthreadpool-cpp.cc:90] Warning: Leaking Caffe2 thread-pool after fork. (function pthreadpool)\n",
            "Epoch 2:  28% 24/85 [00:22<00:58,  1.05it/s, loss=0.809, v_num=]\n",
            "Validating: 0it [00:00, ?it/s]\u001b[A\n",
            "Validating:   0% 0/62 [00:00<?, ?it/s]\u001b[A[W pthreadpool-cpp.cc:90] Warning: Leaking Caffe2 thread-pool after fork. (function pthreadpool)\n",
            "[W pthreadpool-cpp.cc:90] Warning: Leaking Caffe2 thread-pool after fork. (function pthreadpool)\n",
            "\n",
            "Validating:   2% 1/62 [00:00<00:44,  1.38it/s]\u001b[A\n",
            "Epoch 2:  31% 26/85 [00:23<00:54,  1.09it/s, loss=0.809, v_num=]\n",
            "Validating:   5% 3/62 [00:01<00:19,  3.02it/s]\u001b[A\n",
            "Epoch 2:  33% 28/85 [00:24<00:49,  1.15it/s, loss=0.809, v_num=]\n",
            "Validating:   8% 5/62 [00:01<00:14,  3.82it/s]\u001b[A\n",
            "Epoch 2:  35% 30/85 [00:24<00:45,  1.21it/s, loss=0.809, v_num=]\n",
            "Validating:  11% 7/62 [00:02<00:13,  4.23it/s]\u001b[A\n",
            "Epoch 2:  38% 32/85 [00:25<00:41,  1.27it/s, loss=0.809, v_num=]\n",
            "Validating:  15% 9/62 [00:02<00:12,  4.39it/s]\u001b[A\n",
            "Epoch 2:  40% 34/85 [00:25<00:38,  1.33it/s, loss=0.809, v_num=]\n",
            "Validating:  18% 11/62 [00:02<00:11,  4.48it/s]\u001b[A\n",
            "Epoch 2:  42% 36/85 [00:26<00:35,  1.38it/s, loss=0.809, v_num=]\n",
            "Validating:  21% 13/62 [00:03<00:10,  4.52it/s]\u001b[A\n",
            "Epoch 2:  45% 38/85 [00:26<00:32,  1.43it/s, loss=0.809, v_num=]\n",
            "Validating:  24% 15/62 [00:03<00:10,  4.54it/s]\u001b[A\n",
            "Epoch 2:  47% 40/85 [00:26<00:30,  1.49it/s, loss=0.809, v_num=]\n",
            "Validating:  27% 17/62 [00:04<00:09,  4.56it/s]\u001b[A\n",
            "Epoch 2:  49% 42/85 [00:27<00:28,  1.53it/s, loss=0.809, v_num=]\n",
            "Validating:  31% 19/62 [00:04<00:09,  4.60it/s]\u001b[A\n",
            "Epoch 2:  52% 44/85 [00:27<00:25,  1.58it/s, loss=0.809, v_num=]\n",
            "Validating:  34% 21/62 [00:05<00:08,  4.60it/s]\u001b[A\n",
            "Epoch 2:  54% 46/85 [00:28<00:23,  1.63it/s, loss=0.809, v_num=]\n",
            "Validating:  37% 23/62 [00:05<00:08,  4.60it/s]\u001b[A\n",
            "Epoch 2:  56% 48/85 [00:28<00:22,  1.67it/s, loss=0.809, v_num=]\n",
            "Validating:  40% 25/62 [00:05<00:08,  4.61it/s]\u001b[A\n",
            "Epoch 2:  59% 50/85 [00:29<00:20,  1.72it/s, loss=0.809, v_num=]\n",
            "Validating:  44% 27/62 [00:06<00:07,  4.61it/s]\u001b[A\n",
            "Epoch 2:  61% 52/85 [00:29<00:18,  1.76it/s, loss=0.809, v_num=]\n",
            "Validating:  47% 29/62 [00:06<00:07,  4.58it/s]\u001b[A\n",
            "Epoch 2:  64% 54/85 [00:29<00:17,  1.80it/s, loss=0.809, v_num=]\n",
            "Validating:  50% 31/62 [00:07<00:06,  4.60it/s]\u001b[A\n",
            "Epoch 2:  66% 56/85 [00:30<00:15,  1.84it/s, loss=0.809, v_num=]\n",
            "Validating:  53% 33/62 [00:07<00:06,  4.62it/s]\u001b[A\n",
            "Epoch 2:  68% 58/85 [00:30<00:14,  1.88it/s, loss=0.809, v_num=]\n",
            "Validating:  56% 35/62 [00:08<00:05,  4.62it/s]\u001b[A\n",
            "Epoch 2:  71% 60/85 [00:31<00:13,  1.92it/s, loss=0.809, v_num=]\n",
            "Validating:  60% 37/62 [00:08<00:05,  4.63it/s]\u001b[A\n",
            "Epoch 2:  73% 62/85 [00:31<00:11,  1.96it/s, loss=0.809, v_num=]\n",
            "Validating:  63% 39/62 [00:08<00:04,  4.62it/s]\u001b[A\n",
            "Epoch 2:  75% 64/85 [00:32<00:10,  1.99it/s, loss=0.809, v_num=]\n",
            "Validating:  66% 41/62 [00:09<00:04,  4.62it/s]\u001b[A\n",
            "Epoch 2:  78% 66/85 [00:32<00:09,  2.03it/s, loss=0.809, v_num=]\n",
            "Validating:  69% 43/62 [00:09<00:04,  4.63it/s]\u001b[A\n",
            "Epoch 2:  80% 68/85 [00:32<00:08,  2.06it/s, loss=0.809, v_num=]\n",
            "Validating:  73% 45/62 [00:10<00:03,  4.63it/s]\u001b[A\n",
            "Epoch 2:  82% 70/85 [00:33<00:07,  2.09it/s, loss=0.809, v_num=]\n",
            "Validating:  76% 47/62 [00:10<00:03,  4.47it/s]\u001b[A\n",
            "Epoch 2:  85% 72/85 [00:33<00:06,  2.12it/s, loss=0.809, v_num=]\n",
            "Validating:  79% 49/62 [00:11<00:03,  3.85it/s]\u001b[A\n",
            "Epoch 2:  87% 74/85 [00:35<00:05,  2.11it/s, loss=0.809, v_num=]\n",
            "Validating:  82% 51/62 [00:13<00:07,  1.54it/s]\u001b[A\n",
            "Epoch 2:  89% 76/85 [00:37<00:04,  2.02it/s, loss=0.809, v_num=]\n",
            "Validating:  85% 53/62 [00:15<00:08,  1.02it/s]\u001b[A\n",
            "Epoch 2:  92% 78/85 [00:40<00:03,  1.92it/s, loss=0.809, v_num=]\n",
            "Validating:  89% 55/62 [00:18<00:06,  1.03it/s]\u001b[A\n",
            "Epoch 2:  94% 80/85 [00:43<00:02,  1.85it/s, loss=0.809, v_num=]\n",
            "Validating:  92% 57/62 [00:20<00:05,  1.07s/it]\u001b[A\n",
            "Epoch 2:  96% 82/85 [00:45<00:01,  1.78it/s, loss=0.809, v_num=]\n",
            "Validating:  95% 59/62 [00:23<00:03,  1.14s/it]\u001b[A\n",
            "Epoch 2:  99% 84/85 [00:47<00:00,  1.77it/s, loss=0.809, v_num=]\n",
            "Validating:  98% 61/62 [00:24<00:00,  1.20it/s]\u001b[A\n",
            "Validating: 100% 62/62 [00:24<00:00,  1.62it/s]\u001b[A\n",
            "========\n",
            "map      | 0.6386\n",
            "val_loss | 0.7613\n",
            "vm       | 0.6386\n",
            "Epoch 2: 100% 85/85 [00:47<00:00,  1.77it/s, loss=0.809, v_num=]\n",
            "                                               \u001b[ASaving latest checkpoint...\n",
            "INFO:lightning:Saving latest checkpoint...\n",
            "Epoch 2: 100% 85/85 [00:49<00:00,  1.73it/s, loss=0.809, v_num=]\n",
            "\n",
            "\n",
            "Profiler Report\n",
            "\n",
            "Action                             \t|  Mean duration (s)\t|Num calls      \t|  Total time (s) \t|  Percentage %   \t|\n",
            "------------------------------------------------------------------------------------------------------------------------------------\n",
            "Total                              \t|  -              \t|_              \t|  156.84         \t|  100 %          \t|\n",
            "------------------------------------------------------------------------------------------------------------------------------------\n",
            "run_training_epoch                 \t|  46.572         \t|3              \t|  139.72         \t|  89.082         \t|\n",
            "run_training_batch                 \t|  0.82797        \t|69             \t|  57.13          \t|  36.426         \t|\n",
            "optimizer_step_and_closure_0       \t|  0.81678        \t|69             \t|  56.358         \t|  35.933         \t|\n",
            "evaluation_step_and_end            \t|  0.23599        \t|188            \t|  44.365         \t|  28.287         \t|\n",
            "validation_step                    \t|  0.23577        \t|188            \t|  44.324         \t|  28.261         \t|\n",
            "training_step_and_backward         \t|  0.5479         \t|69             \t|  37.805         \t|  24.104         \t|\n",
            "model_backward                     \t|  0.28259        \t|69             \t|  19.498         \t|  12.432         \t|\n",
            "model_forward                      \t|  0.26309        \t|69             \t|  18.153         \t|  11.574         \t|\n",
            "training_step                      \t|  0.26262        \t|69             \t|  18.121         \t|  11.554         \t|\n",
            "get_train_batch                    \t|  0.11418        \t|69             \t|  7.8787         \t|  5.0234         \t|\n",
            "on_validation_end                  \t|  1.2514         \t|4              \t|  5.0056         \t|  3.1915         \t|\n",
            "on_train_end                       \t|  0.49352        \t|1              \t|  0.49352        \t|  0.31466        \t|\n",
            "on_validation_batch_end            \t|  0.00051713     \t|188            \t|  0.09722        \t|  0.061987       \t|\n",
            "on_train_batch_end                 \t|  0.0005276      \t|69             \t|  0.036404       \t|  0.023211       \t|\n",
            "cache_result                       \t|  1.9488e-05     \t|948            \t|  0.018474       \t|  0.011779       \t|\n",
            "on_after_backward                  \t|  0.00015719     \t|69             \t|  0.010846       \t|  0.0069155      \t|\n",
            "on_validation_batch_start          \t|  2.7833e-05     \t|188            \t|  0.0052325      \t|  0.0033362      \t|\n",
            "validation_step_end                \t|  1.7674e-05     \t|188            \t|  0.0033227      \t|  0.0021185      \t|\n",
            "on_before_zero_grad                \t|  4.1337e-05     \t|69             \t|  0.0028522      \t|  0.0018186      \t|\n",
            "on_batch_start                     \t|  4.1166e-05     \t|69             \t|  0.0028405      \t|  0.0018111      \t|\n",
            "on_train_batch_start               \t|  2.7612e-05     \t|69             \t|  0.0019052      \t|  0.0012147      \t|\n",
            "on_validation_start                \t|  0.00037743     \t|4              \t|  0.0015097      \t|  0.00096258     \t|\n",
            "on_batch_end                       \t|  1.9916e-05     \t|69             \t|  0.0013742      \t|  0.0008762      \t|\n",
            "training_step_end                  \t|  1.5276e-05     \t|69             \t|  0.001054       \t|  0.00067204     \t|\n",
            "on_epoch_start                     \t|  0.00026809     \t|3              \t|  0.00080428     \t|  0.0005128      \t|\n",
            "on_train_start                     \t|  0.00031931     \t|1              \t|  0.00031931     \t|  0.00020359     \t|\n",
            "on_validation_epoch_end            \t|  3.0969e-05     \t|4              \t|  0.00012388     \t|  7.8983e-05     \t|\n",
            "on_train_epoch_end                 \t|  2.7347e-05     \t|3              \t|  8.2042e-05     \t|  5.231e-05      \t|\n",
            "on_epoch_end                       \t|  1.0965e-05     \t|7              \t|  7.6752e-05     \t|  4.8937e-05     \t|\n",
            "on_validation_epoch_start          \t|  1.8875e-05     \t|4              \t|  7.55e-05       \t|  4.8138e-05     \t|\n",
            "on_train_epoch_start               \t|  2.0868e-05     \t|3              \t|  6.2605e-05     \t|  3.9917e-05     \t|\n",
            "on_fit_start                       \t|  2.2796e-05     \t|1              \t|  2.2796e-05     \t|  1.4535e-05     \t|\n",
            "on_before_accelerator_backend_setup\t|  9.482e-06      \t|1              \t|  9.482e-06      \t|  6.0457e-06     \t|\n",
            "\n",
            "INFO:lightning:\n",
            "\n",
            "Profiler Report\n",
            "\n",
            "Action                             \t|  Mean duration (s)\t|Num calls      \t|  Total time (s) \t|  Percentage %   \t|\n",
            "------------------------------------------------------------------------------------------------------------------------------------\n",
            "Total                              \t|  -              \t|_              \t|  156.84         \t|  100 %          \t|\n",
            "------------------------------------------------------------------------------------------------------------------------------------\n",
            "run_training_epoch                 \t|  46.572         \t|3              \t|  139.72         \t|  89.082         \t|\n",
            "run_training_batch                 \t|  0.82797        \t|69             \t|  57.13          \t|  36.426         \t|\n",
            "optimizer_step_and_closure_0       \t|  0.81678        \t|69             \t|  56.358         \t|  35.933         \t|\n",
            "evaluation_step_and_end            \t|  0.23599        \t|188            \t|  44.365         \t|  28.287         \t|\n",
            "validation_step                    \t|  0.23577        \t|188            \t|  44.324         \t|  28.261         \t|\n",
            "training_step_and_backward         \t|  0.5479         \t|69             \t|  37.805         \t|  24.104         \t|\n",
            "model_backward                     \t|  0.28259        \t|69             \t|  19.498         \t|  12.432         \t|\n",
            "model_forward                      \t|  0.26309        \t|69             \t|  18.153         \t|  11.574         \t|\n",
            "training_step                      \t|  0.26262        \t|69             \t|  18.121         \t|  11.554         \t|\n",
            "get_train_batch                    \t|  0.11418        \t|69             \t|  7.8787         \t|  5.0234         \t|\n",
            "on_validation_end                  \t|  1.2514         \t|4              \t|  5.0056         \t|  3.1915         \t|\n",
            "on_train_end                       \t|  0.49352        \t|1              \t|  0.49352        \t|  0.31466        \t|\n",
            "on_validation_batch_end            \t|  0.00051713     \t|188            \t|  0.09722        \t|  0.061987       \t|\n",
            "on_train_batch_end                 \t|  0.0005276      \t|69             \t|  0.036404       \t|  0.023211       \t|\n",
            "cache_result                       \t|  1.9488e-05     \t|948            \t|  0.018474       \t|  0.011779       \t|\n",
            "on_after_backward                  \t|  0.00015719     \t|69             \t|  0.010846       \t|  0.0069155      \t|\n",
            "on_validation_batch_start          \t|  2.7833e-05     \t|188            \t|  0.0052325      \t|  0.0033362      \t|\n",
            "validation_step_end                \t|  1.7674e-05     \t|188            \t|  0.0033227      \t|  0.0021185      \t|\n",
            "on_before_zero_grad                \t|  4.1337e-05     \t|69             \t|  0.0028522      \t|  0.0018186      \t|\n",
            "on_batch_start                     \t|  4.1166e-05     \t|69             \t|  0.0028405      \t|  0.0018111      \t|\n",
            "on_train_batch_start               \t|  2.7612e-05     \t|69             \t|  0.0019052      \t|  0.0012147      \t|\n",
            "on_validation_start                \t|  0.00037743     \t|4              \t|  0.0015097      \t|  0.00096258     \t|\n",
            "on_batch_end                       \t|  1.9916e-05     \t|69             \t|  0.0013742      \t|  0.0008762      \t|\n",
            "training_step_end                  \t|  1.5276e-05     \t|69             \t|  0.001054       \t|  0.00067204     \t|\n",
            "on_epoch_start                     \t|  0.00026809     \t|3              \t|  0.00080428     \t|  0.0005128      \t|\n",
            "on_train_start                     \t|  0.00031931     \t|1              \t|  0.00031931     \t|  0.00020359     \t|\n",
            "on_validation_epoch_end            \t|  3.0969e-05     \t|4              \t|  0.00012388     \t|  7.8983e-05     \t|\n",
            "on_train_epoch_end                 \t|  2.7347e-05     \t|3              \t|  8.2042e-05     \t|  5.231e-05      \t|\n",
            "on_epoch_end                       \t|  1.0965e-05     \t|7              \t|  7.6752e-05     \t|  4.8937e-05     \t|\n",
            "on_validation_epoch_start          \t|  1.8875e-05     \t|4              \t|  7.55e-05       \t|  4.8138e-05     \t|\n",
            "on_train_epoch_start               \t|  2.0868e-05     \t|3              \t|  6.2605e-05     \t|  3.9917e-05     \t|\n",
            "on_fit_start                       \t|  2.2796e-05     \t|1              \t|  2.2796e-05     \t|  1.4535e-05     \t|\n",
            "on_before_accelerator_backend_setup\t|  9.482e-06      \t|1              \t|  9.482e-06      \t|  6.0457e-06     \t|\n",
            "\n"
          ]
        }
      ]
    },
    {
      "cell_type": "markdown",
      "metadata": {
        "id": "Y2d8aTsgGf9O"
      },
      "source": [
        "### 10. Evaluate the results"
      ]
    },
    {
      "cell_type": "code",
      "metadata": {
        "id": "j3Ty7NLs3xtu",
        "colab": {
          "base_uri": "https://localhost:8080/"
        },
        "outputId": "c45d44ed-ae7e-43d3-cbb0-91bec81b3dd2"
      },
      "source": [
        "import sys ; sys.path.insert(0, '/content/siim_covid19_detection/ian-siim/')\n",
        "\n",
        "from detect.skp import builder\n",
        "from detect.skp.metrics import mAP\n",
        "from detect.skp.task_utils import tpfp_default\n",
        "\n",
        "\n",
        "def read_dicom(path, voi_lut = True, fix_monochrome = True):\n",
        "    # Original from: https://www.kaggle.com/raddar/convert-dicom-to-np-array-the-correct-way\n",
        "    dicom = pydicom.read_file(path)\n",
        "    \n",
        "    # VOI LUT (if available by DICOM device) is used to transform raw DICOM data to \n",
        "    # \"human-friendly\" view\n",
        "    if voi_lut:\n",
        "        data = apply_voi_lut(dicom.pixel_array, dicom)\n",
        "    else:\n",
        "        data = dicom.pixel_array\n",
        "               \n",
        "    # depending on this value, X-ray may look inverted - fix that:\n",
        "    if fix_monochrome and dicom.PhotometricInterpretation == \"MONOCHROME1\":\n",
        "        data = np.amax(data) - data\n",
        "        \n",
        "    data = data - np.min(data)\n",
        "    data = data / np.max(data)\n",
        "    data = (data * 255).astype(np.uint8)\n",
        "    # shape = (H, W)\n",
        "    data = np.expand_dims(data, axis=-1)\n",
        "    data = np.repeat(data, 3, axis=-1)\n",
        "    # shape = (H, W, 3)\n",
        "    return data\n",
        "\n",
        "\n",
        "def get_tpfp(dets, gt_bboxes, gt_labels):\n",
        "    nc = 1\n",
        "    tpfp_list, num_gts = [], []\n",
        "    for each_cls in range(1, nc+1): \n",
        "        classes = dets[...,-1]\n",
        "        cls_dets = dets[classes == each_cls]\n",
        "        cls_gt = gt_labels[gt_labels == each_cls]\n",
        "        cls_bboxes = gt_bboxes[gt_labels == each_cls]\n",
        "        tp, fp = tpfp_default(cls_dets[...,:-1], cls_bboxes, iou_thr=0.5)\n",
        "        scores = cls_dets[...,-2]\n",
        "        results = torch.cat([tp, fp, scores.unsqueeze(0)])\n",
        "        results = results.transpose(1,0)\n",
        "        tpfp_list.append(results)\n",
        "        num_gts.append(len(cls_gt))\n",
        "    return tpfp_list, num_gts\n",
        "  \n",
        "\n",
        "def load_model(cfg, checkpoint):\n",
        "    cfg.model.params.pretrained = False\n",
        "    cfg.model.params.inference = True\n",
        "    if 'load_pretrained' in cfg.model.params: cfg.model.params.load_pretrained = None\n",
        "    model = builder.build_model(cfg)\n",
        "    print (f'Loading model from {checkpoint} ... ')\n",
        "    weights = torch.load(checkpoint, map_location=lambda storage, loc: storage)['state_dict']\n",
        "    weights = {re.sub(r'^model.', '', k) : v for k,v in weights.items()}\n",
        "    model.load_state_dict(weights)\n",
        "    return model.eval().cuda()\n",
        "\n",
        "\n",
        "def load_config(cfgname):\n",
        "    config = OmegaConf.load(f'configs/mks/{cfgname}.yaml')\n",
        "    config.data.dataset.name = 'CXRDataset'\n",
        "    config.data.dataset.params.dicom = True\n",
        "    return config\n",
        "\n",
        "\n",
        "def draw_bbox(img, rects):\n",
        "    for r in rects:\n",
        "        xmin, ymin, xmax, ymax = r\n",
        "        cv2.rectangle(img, (xmin, ymin), (xmax, ymax), (255,0,0), 2)\n",
        "    return img\n",
        "\n",
        "\n",
        "cfg = load_config('mk007')\n",
        "model = load_model(cfg, '../experiments/detect/mk007/checkpoints/last.ckpt')\n",
        "dataset = builder.build_dataset(cfg, data_info=dict(annotations=[]), mode='predict')\n",
        "\n",
        "# Store detection predictions\n",
        "model_predictions = {}\n",
        "visualizations = []\n",
        "metric = mAP(num_classes=1)\n",
        "\n",
        "for dcmfile in tqdm(test_paths):\n",
        "    each_ann = anns[dcmfile]\n",
        "    dcmfile = dcmfile.replace('./data/', '/content/data/')\n",
        "    try:\n",
        "      dcm = read_dicom(dcmfile)\n",
        "    except RuntimeError:\n",
        "      continue\n",
        "    original_size = dcm.shape\n",
        "    gt_bboxes = np.concatenate([transform_bbox(l['data']) for l in each_ann]).astype('float')\n",
        "    gt_labels = np.asarray([labels_dict[l['labelId']] - 1 for l in each_ann]).astype('float')\n",
        "    gt_bboxes = torch.from_numpy(gt_bboxes)\n",
        "    gt_labels = torch.from_numpy(gt_labels)\n",
        "\n",
        "    X = dataset.resize(image=dcm.copy(), bboxes=[], labels=[])['image']\n",
        "    new_size = X.shape\n",
        "    scale_factor = (original_size[0] / new_size[0], original_size[1] / new_size[1])\n",
        "    X = dataset.preprocess(X)\n",
        "    X = X.transpose(2,0,1)\n",
        "    X = torch.from_numpy(X).float().unsqueeze(0).cuda()\n",
        "    with torch.no_grad():\n",
        "        dets = model(X)\n",
        "    dets = dets[0, :, [1,0,3,2,4,5]]\n",
        "    dets[:, [0,2]] *= scale_factor[1]\n",
        "    dets[:, [1,3]] *= scale_factor[0]\n",
        "\n",
        "    results = [get_tpfp(dets, gt_bboxes, gt_labels)]\n",
        "    # Reformat results so that it is a list of length=num_classes\n",
        "    # Then turn each element of this list into a torch.Tensor\n",
        "    results_reformat, num_gts = [], []\n",
        "    for each_cls in range(1):\n",
        "        class_list = [r[0][each_cls] for r in results]\n",
        "        cls_num_gts = sum([r[1][each_cls] for r in results])\n",
        "        results_reformat.append(torch.cat(class_list))\n",
        "        num_gts.append(cls_num_gts)\n",
        "    \n",
        "    metric.update(results_reformat, num_gts)\n",
        "    dets = dets.cpu().numpy()\n",
        "    img_w_bbox = draw_bbox(dcm.copy(), list(dets[dets[:,4] >= 0.3, :4].astype('int')))\n",
        "    model_predictions[dcmfile] = dets\n",
        "    visualizations.append(img_w_bbox)\n",
        "\n",
        "final_map = metric.compute()['map']\n",
        "os.system(f'curl -JLO \"https://rsna.skp.one/?moduleID=3&urlID=3&userMDAI={USER_ID}&projectID={PROJECT_ID}&metric={final_map:0.4f}\"')\n",
        "print(f'\\n\\nMEAN AVERAGE PRECISION: {final_map:0.4f}')"
      ],
      "execution_count": null,
      "outputs": [
        {
          "output_type": "stream",
          "name": "stdout",
          "text": [
            "Creating model <EffDet> ...\n",
            "  Using backbone <tf_efficientnet_b6> ...\n",
            "  Pretrained : False\n",
            "Loading model from ../experiments/detect/mk007/checkpoints/last.ckpt ... \n"
          ]
        },
        {
          "output_type": "stream",
          "name": "stderr",
          "text": [
            "100%|██████████| 103/103 [00:33<00:00,  3.09it/s]\n"
          ]
        },
        {
          "output_type": "stream",
          "name": "stdout",
          "text": [
            "\n",
            "\n",
            "MEAN AVERAGE PRECISION: 0.5691\n"
          ]
        }
      ]
    },
    {
      "cell_type": "markdown",
      "metadata": {
        "id": "HZF3IHa0u92E"
      },
      "source": [
        "## How well did your AI model perform?\n",
        "\n",
        "For initial evaluation of your AI model, we're using a metric called mean average precision (final number in above cell).\n",
        "\n",
        "### mAP\n",
        "\n",
        "Mean average precision (mAP) is a popular metric for evaluating the performance of object detection models which predict bounding boxes. First, an overlap threshold is specified to determine whether a predicted bounding box is a true positive. The mAP takes into account the model's sensitivity and positive predictive value at the bounding box level. The theoretical range of mAP is 0 to 1. For this task, mAP of 0.6 is considered very good.\n",
        "\n",
        "Here's a good reference for additional information about mAP: https://towardsdatascience.com/breaking-down-mean-average-precision-map-ae462f623a52#1a59\n",
        "\n",
        "### Leaderboard\n",
        "\n",
        "In case you're curious how your model performs compared with others taking the course, we'll be preparing a 'leaderboard' later in the course for fun.  The variation in the mAP values in the leaderboard will largely be based on differences in the annotations you performed earlier.\n",
        "\n",
        "Stay tuned..\n",
        "\n",
        "### Let's look at a few examples of how well your AI model predicts pneumonia below for a few random images"
      ]
    },
    {
      "cell_type": "code",
      "metadata": {
        "id": "t4pKpThcTCAb",
        "colab": {
          "base_uri": "https://localhost:8080/",
          "height": 773
        },
        "outputId": "1f4142b8-33dc-451a-ba26-8f13d7571c7c"
      },
      "source": [
        "# Finally, let's look at some of the AI outputs that your model predicts on the test data\n",
        "#\n",
        "# Each time you press the play button on the left, a few random images with predicted\n",
        "# bounding boxes will be shown. \n",
        "plt.imshow(np.random.choice(visualizations)); plt.show()\n",
        "plt.imshow(np.random.choice(visualizations)); plt.show()\n",
        "plt.imshow(np.random.choice(visualizations)); plt.show()"
      ],
      "execution_count": null,
      "outputs": [
        {
          "output_type": "display_data",
          "data": {
            "text/plain": [
              "<Figure size 432x288 with 1 Axes>"
            ],
            "image/png": "[encoded data removed]"
          },
          "metadata": {
            "needs_background": "light"
          }
        },
        {
          "output_type": "display_data",
          "data": {
            "text/plain": [
              "<Figure size 432x288 with 1 Axes>"
            ],
            "image/png": "[encoded data removed]"
          },
          "metadata": {
            "needs_background": "light"
          }
        },
        {
          "output_type": "display_data",
          "data": {
            "text/plain": [
              "<Figure size 432x288 with 1 Axes>"
            ],
            "image/png": "[encoded data removed]"
          },
          "metadata": {
            "needs_background": "light"
          }
        }
      ]
    },
    {
      "cell_type": "markdown",
      "metadata": {
        "id": "FbBTXU_xqTJh"
      },
      "source": [
        "#### Import model outputs into your MD.ai project\n",
        "\n",
        "Even though we're using the mean average precision metric for an overall evaluation of how your model performs, radiologists (and other medical professionals) often prefer to visually see how these AI outputs appear in the context of these x-rays.\n",
        "\n",
        "So you'll be using these model prediction outputs in later in the course to visually evaluate how well your model performed on the test dataset."
      ]
    },
    {
      "cell_type": "code",
      "metadata": {
        "id": "oCTBHPP3v0o6",
        "colab": {
          "base_uri": "https://localhost:8080/"
        },
        "outputId": "b17fe587-e29e-488d-8fab-136ed562aeeb"
      },
      "source": [
        "upload_annotations = []\n",
        "pneumonia_label_id = [i for i in p.classes_dict if p.classes_dict[i][\"class_text\"] == \"Pneumonia\"][0]\n",
        "\n",
        "# Format predictions as required for displaying on MD.ai (https://docs.md.ai/libraries/python/guides-import/)\n",
        "for id, val in model_predictions.items():\n",
        "  sop = os.path.splitext(id.split(\"/\")[-1])[0]\n",
        "  data = list(val[val[:,4] >= 0.3, :4].astype('int'))\n",
        "  for bbox in data:\n",
        "    bbox = bbox.tolist()\n",
        "    bbox = {\"x\":bbox[0], \"y\":bbox[1], \"width\": bbox[2] - bbox[0], \"height\": bbox[3] - bbox[1]}\n",
        "    upload_annotations.append({\"labelId\": pneumonia_label_id,\n",
        "                               \"SOPInstanceUID\": sop,\n",
        "                               \"data\": bbox})\n",
        "\n",
        "# Import model outputs\n",
        "mdai_client.import_annotations(upload_annotations, PROJECT_ID, DATASET_IDS[1])"
      ],
      "execution_count": null,
      "outputs": [
        {
          "output_type": "stream",
          "name": "stdout",
          "text": [
            "Importing 179 annotations into project MmRaEXRr, dataset D_Alnovz...                                \n",
            "Successfully imported 179 / 179 annotations into project MmRaEXRr, dataset D_Alnovz.\n"
          ]
        },
        {
          "output_type": "execute_result",
          "data": {
            "text/plain": [
              "[]"
            ]
          },
          "metadata": {},
          "execution_count": 19
        }
      ]
    },
    {
      "cell_type": "markdown",
      "metadata": {
        "id": "QR8jd-x7fr6X"
      },
      "source": [
        "# Congrats! You've finished building your pneumonia AI model.\n"
      ]
    }
  ]
}